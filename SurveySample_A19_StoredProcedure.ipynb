{
 "cells": [
  {
   "cell_type": "markdown",
   "metadata": {},
   "source": [
    "# Stored Procedure"
   ]
  },
  {
   "cell_type": "code",
   "execution_count": 1,
   "metadata": {},
   "outputs": [],
   "source": [
    "# Function to install and import packages\n",
    "def install_and_import(package):\n",
    "    import importlib\n",
    "    try:\n",
    "        importlib.import_module(package)\n",
    "    except ImportError:\n",
    "        import pip\n",
    "        pip.main(['install', package])\n",
    "    finally:\n",
    "        globals()[package] = importlib.import_module(package)"
   ]
  },
  {
   "cell_type": "code",
   "execution_count": 2,
   "metadata": {},
   "outputs": [],
   "source": [
    "# Packages needed\n",
    "install_and_import(\"pyodbc\")\n",
    "install_and_import(\"pandas\")"
   ]
  },
  {
   "cell_type": "code",
   "execution_count": 3,
   "metadata": {},
   "outputs": [],
   "source": [
    "# Database server connection\n",
    "conn = pyodbc.connect(\n",
    "       DRIVER='{ODBC Driver 17 for SQL Server}',  # Check driver version in ODBC Data Source Administrator in your personal computer\n",
    "       SERVER = 'DESKTOP-CC1UAQG\\SQL2019',        # SQL server name that can be seen when lauch SQL server \n",
    "       DATABASE = 'Survey_Sample_A19', \n",
    "       trusted_Connection = 'Yes')\n",
    "\n",
    "# Create cursor to traverse over the records in a database\n",
    "cur = conn.cursor()"
   ]
  },
  {
   "cell_type": "code",
   "execution_count": 4,
   "metadata": {},
   "outputs": [],
   "source": [
    "# Create class for stored procedure\n",
    "\n",
    "class StoredProcedure:\n",
    "     \n",
    "    def __init__(self):\n",
    "        print(\"Instance of Stored Procedure called\")\n",
    "    \n",
    "       \n",
    "    # Function to get survey structure\n",
    "    def getSurveyStructure(self, nameCSVinString, dbconn):\n",
    "        query_SurveyStructure = pandas.read_sql_query(\"SELECT * FROM SurveyStructure ORDER BY SurveyId\", dbconn)\n",
    "        df_SurveyStructure = pandas.DataFrame(query_SurveyStructure)\n",
    "        # Save original survey structure table in local drive\n",
    "        df_SurveyStructure.to_csv(nameCSVinString, index=False)\n",
    "        return df_SurveyStructure\n",
    "    \n",
    "    \n",
    "    # Get all surveyId \n",
    "    def allSurveyId (self):\n",
    "        query_ColSurveyId = \"SELECT DISTINCT SurveyId FROM Answer ORDER BY SurveyId\"\n",
    "        cur.execute(query_ColSurveyId)\n",
    "        row = [item[0] for item in cur.fetchall()]\n",
    "        return row\n",
    "\n",
    "    \n",
    "    # Get all question Id\n",
    "    def allQuestionId (self):\n",
    "        query_ColQuestionId = \"SELECT DISTINCT QuestionId FROM Answer ORDER BY QuestionId\"\n",
    "        cur.execute(query_ColQuestionId)\n",
    "        row = [item[0] for item in cur.fetchall()]\n",
    "        return row\n",
    "    \n",
    "    \n",
    "    # Function to verify the question in each survey\n",
    "    def AllSurvey_Question(self,SurveyList):\n",
    "        checkQuestion_List = [ ]\n",
    "\n",
    "        for surveyId in SurveyList:\n",
    "            if surveyId < len(SurveyList):\n",
    "                query_CheckQ_inSurvey = \"SELECT * FROM (SELECT SurveyId, QuestionId, 1 as InSurvey FROM SurveyStructure WHERE \" \\\n",
    "                                       \"SurveyId = \" +str(surveyId)+ \\\n",
    "                                       \" UNION \"  \\\n",
    "                                       \"SELECT \" +str(surveyId)+ \" as SurveyId, Q.QuestionId, 0 as InSurvey\" \\\n",
    "                                       \" FROM Question as Q WHERE NOT EXISTS\" \\\n",
    "                                       \"(SELECT * FROM SurveyStructure as S WHERE S.SurveyId = \" +str(surveyId)+\\\n",
    "                                       \" AND S.QuestionId = Q.QuestionId)) as t UNION \"\n",
    "                checkQuestion = query_CheckQ_inSurvey \n",
    "                checkQuestion_List.append(checkQuestion)\n",
    "\n",
    "            else: \n",
    "                query_CheckQ_LastSurvey = \"SELECT * FROM (SELECT SurveyId, QuestionId, 1 as InSurvey FROM SurveyStructure WHERE \" \\\n",
    "                                       \"SurveyId = \" +str(surveyId)+ \\\n",
    "                                       \" UNION \"  \\\n",
    "                                       \"SELECT \" +str(surveyId)+ \" as SurveyId, Q.QuestionId, 0 as InSurvey\" \\\n",
    "                                       \" FROM Question as Q WHERE NOT EXISTS\" \\\n",
    "                                       \"(SELECT * FROM SurveyStructure as S WHERE S.SurveyId = \" +str(surveyId)+\\\n",
    "                                       \" AND S.QuestionId = Q.QuestionId)) as t ORDER BY SurveyId \" \n",
    "                checkQuestion = query_CheckQ_LastSurvey\n",
    "                checkQuestion_List.append(checkQuestion)\n",
    "\n",
    "\n",
    "            allsurvey_question = \" \".join(checkQuestion_List)\n",
    "            surveyId  += 1\n",
    "        return allsurvey_question\n",
    "    \n",
    "    \n",
    "    # Create data frame to see all question in each query\n",
    "    def getAllQuestioninSurvey(self, query, dbconn):\n",
    "        query_allQuestioninSurvey = pandas.read_sql_query(query, dbconn)\n",
    "        df_allQuestioninSurvey = pandas.DataFrame(query_allQuestioninSurvey)\n",
    "        return df_allQuestioninSurvey\n",
    "\n",
    "    \n",
    "    # Make list of question in each survey \n",
    "    def getAllInsurveyQuestion(self,df):\n",
    "        df_InSurvey = df.loc[df[\"InSurvey\"]==1]\n",
    "        InSurvey_list = df_InSurvey.values[:,[0,1]].tolist()\n",
    "        return InSurvey_list\n",
    "\n",
    "\n",
    "  # Select only user who gives response\n",
    "    def Final(self,SurveyList, QuestionList, List):\n",
    "        strCurrentUnionQueryBlock_List = [ ]\n",
    "        strFinalQuery = \" \"\n",
    "\n",
    "        # Match answer to question\n",
    "        def DynamicAnswer(surveyId,questionId,List):\n",
    "            strColumnsQueryPart = \" \"\n",
    "            AnswerCol = \"COALESCE((SELECT a.Answer_Value FROM Answer as a \"\\\n",
    "                        \"WHERE a.UserId = u.UserId AND a.SurveyId = \" +str(surveyId)+\\\n",
    "                        \" AND a.QuestionId = \"+str(questionId)+\"),-1) \"\\\n",
    "                        \"AS ANS_Q\" +str(questionId)\n",
    "            NullCol = \" NULL AS ANS_Q\" +str(questionId) \n",
    "            value = [surveyId,questionId]\n",
    "            \n",
    "            if value in List:\n",
    "                strColumnsQueryPart = AnswerCol\n",
    "            else:\n",
    "                strColumnsQueryPart = NullCol\n",
    "            return strColumnsQueryPart\n",
    "    \n",
    "       \n",
    "\n",
    "        for surveyId in SurveyList:\n",
    "            strQueryTemplateOuterUnionQuery = \" SELECT UserId, \" +str(surveyId)+ \" as SurveyId, \"\n",
    "\n",
    "            for questionId in QuestionList:\n",
    "                if questionId in range(0,len(QuestionList)):\n",
    "                    strQueryTemplateOuterUnionQuery = strQueryTemplateOuterUnionQuery + DynamicAnswer(surveyId,questionId,List) + \",\"\n",
    "                else: \n",
    "                    strQueryTemplateOuterUnionQuery = strQueryTemplateOuterUnionQuery + DynamicAnswer(surveyId,questionId,List) + \" FROM [User] as u\" \\\n",
    "                                                      \" WHERE EXISTS (SELECT * FROM Answer as a WHERE u.UserId = a.UserId\" \\\n",
    "                                                      \" AND a.SurveyId = \" +str(surveyId)+ \") UNION \"\n",
    "                    strCurrentUnionQueryBlock_List.append(strQueryTemplateOuterUnionQuery)\n",
    "                    strCurrentUnionQueryBlock = \" \".join(strCurrentUnionQueryBlock_List)\n",
    "                questionId += 1\n",
    "            surveyId += 1\n",
    "            strFinalQuery = \" \".join(strCurrentUnionQueryBlock.split(\" \")[:-2])\n",
    "        return strFinalQuery\n",
    "\n",
    "\n",
    "    # Get final survey data\n",
    "    def Output(self, query,dbconn, nameCSVinString):\n",
    "        query_Output = pandas.read_sql_query(query, dbconn)\n",
    "        df_Output = pandas.DataFrame(query_Output)\n",
    "        df_Output.to_csv(nameCSVinString, index=False)\n",
    "        return df_Output.head(5)   # Check output\n",
    "    \n",
    "    \n",
    "    # Create view\n",
    "    def createView(self, View_NameInString, query, dbcur, dbconn):\n",
    "        query_view = \"CREATE VIEW \" + View_NameInString + \" AS \" + query\n",
    "        dbcur.execute(query_view)\n",
    "        dbconn.commit()\n",
    "        \n",
    "        \n",
    "    # Close connection\n",
    "    def dbClose(self, dbconn, dbcur):\n",
    "        dbcur.close()\n",
    "        del dbcur\n",
    "        dbconn.close()"
   ]
  },
  {
   "cell_type": "code",
   "execution_count": 5,
   "metadata": {},
   "outputs": [
    {
     "name": "stdout",
     "output_type": "stream",
     "text": [
      "Instance of Stored Procedure called\n"
     ]
    }
   ],
   "source": [
    "# Create class attribute\n",
    "db_A19 = StoredProcedure()"
   ]
  },
  {
   "cell_type": "code",
   "execution_count": 6,
   "metadata": {},
   "outputs": [
    {
     "data": {
      "text/html": [
       "<div>\n",
       "<style scoped>\n",
       "    .dataframe tbody tr th:only-of-type {\n",
       "        vertical-align: middle;\n",
       "    }\n",
       "\n",
       "    .dataframe tbody tr th {\n",
       "        vertical-align: top;\n",
       "    }\n",
       "\n",
       "    .dataframe thead th {\n",
       "        text-align: right;\n",
       "    }\n",
       "</style>\n",
       "<table border=\"1\" class=\"dataframe\">\n",
       "  <thead>\n",
       "    <tr style=\"text-align: right;\">\n",
       "      <th></th>\n",
       "      <th>SurveyId</th>\n",
       "      <th>QuestionId</th>\n",
       "      <th>OrdinalValue</th>\n",
       "    </tr>\n",
       "  </thead>\n",
       "  <tbody>\n",
       "    <tr>\n",
       "      <th>0</th>\n",
       "      <td>1</td>\n",
       "      <td>1</td>\n",
       "      <td>1</td>\n",
       "    </tr>\n",
       "    <tr>\n",
       "      <th>1</th>\n",
       "      <td>1</td>\n",
       "      <td>2</td>\n",
       "      <td>2</td>\n",
       "    </tr>\n",
       "    <tr>\n",
       "      <th>2</th>\n",
       "      <td>2</td>\n",
       "      <td>2</td>\n",
       "      <td>1</td>\n",
       "    </tr>\n",
       "    <tr>\n",
       "      <th>3</th>\n",
       "      <td>2</td>\n",
       "      <td>3</td>\n",
       "      <td>2</td>\n",
       "    </tr>\n",
       "  </tbody>\n",
       "</table>\n",
       "</div>"
      ],
      "text/plain": [
       "   SurveyId  QuestionId  OrdinalValue\n",
       "0         1           1             1\n",
       "1         1           2             2\n",
       "2         2           2             1\n",
       "3         2           3             2"
      ]
     },
     "execution_count": 6,
     "metadata": {},
     "output_type": "execute_result"
    }
   ],
   "source": [
    "# Get original survey structure table to compare the change of database later\n",
    "df_SurveyStructure = db_A19.getSurveyStructure(\"SurveyStructure_Khwansiri.csv\", conn)\n",
    "df_SurveyStructure"
   ]
  },
  {
   "cell_type": "code",
   "execution_count": 7,
   "metadata": {},
   "outputs": [
    {
     "data": {
      "text/plain": [
       "[1, 2, 3]"
      ]
     },
     "execution_count": 7,
     "metadata": {},
     "output_type": "execute_result"
    }
   ],
   "source": [
    "# Get all surveyId \n",
    "allSurveyId_list = db_A19.allSurveyId()\n",
    "allSurveyId_list"
   ]
  },
  {
   "cell_type": "code",
   "execution_count": 8,
   "metadata": {},
   "outputs": [
    {
     "data": {
      "text/plain": [
       "[1, 2, 3]"
      ]
     },
     "execution_count": 8,
     "metadata": {},
     "output_type": "execute_result"
    }
   ],
   "source": [
    "# Get all question Id\n",
    "allQuestionId_list = db_A19.allQuestionId()\n",
    "allQuestionId_list"
   ]
  },
  {
   "cell_type": "code",
   "execution_count": 9,
   "metadata": {},
   "outputs": [],
   "source": [
    "# Function to verify the question in each survey\n",
    "QuestionInSurvey = db_A19.AllSurvey_Question(allSurveyId_list)"
   ]
  },
  {
   "cell_type": "code",
   "execution_count": 10,
   "metadata": {},
   "outputs": [
    {
     "data": {
      "text/html": [
       "<div>\n",
       "<style scoped>\n",
       "    .dataframe tbody tr th:only-of-type {\n",
       "        vertical-align: middle;\n",
       "    }\n",
       "\n",
       "    .dataframe tbody tr th {\n",
       "        vertical-align: top;\n",
       "    }\n",
       "\n",
       "    .dataframe thead th {\n",
       "        text-align: right;\n",
       "    }\n",
       "</style>\n",
       "<table border=\"1\" class=\"dataframe\">\n",
       "  <thead>\n",
       "    <tr style=\"text-align: right;\">\n",
       "      <th></th>\n",
       "      <th>SurveyId</th>\n",
       "      <th>QuestionId</th>\n",
       "      <th>InSurvey</th>\n",
       "    </tr>\n",
       "  </thead>\n",
       "  <tbody>\n",
       "    <tr>\n",
       "      <th>0</th>\n",
       "      <td>1</td>\n",
       "      <td>1</td>\n",
       "      <td>1</td>\n",
       "    </tr>\n",
       "    <tr>\n",
       "      <th>1</th>\n",
       "      <td>1</td>\n",
       "      <td>2</td>\n",
       "      <td>1</td>\n",
       "    </tr>\n",
       "    <tr>\n",
       "      <th>2</th>\n",
       "      <td>1</td>\n",
       "      <td>3</td>\n",
       "      <td>0</td>\n",
       "    </tr>\n",
       "    <tr>\n",
       "      <th>3</th>\n",
       "      <td>1</td>\n",
       "      <td>4</td>\n",
       "      <td>0</td>\n",
       "    </tr>\n",
       "    <tr>\n",
       "      <th>4</th>\n",
       "      <td>2</td>\n",
       "      <td>1</td>\n",
       "      <td>0</td>\n",
       "    </tr>\n",
       "    <tr>\n",
       "      <th>5</th>\n",
       "      <td>2</td>\n",
       "      <td>2</td>\n",
       "      <td>1</td>\n",
       "    </tr>\n",
       "    <tr>\n",
       "      <th>6</th>\n",
       "      <td>2</td>\n",
       "      <td>3</td>\n",
       "      <td>1</td>\n",
       "    </tr>\n",
       "    <tr>\n",
       "      <th>7</th>\n",
       "      <td>2</td>\n",
       "      <td>4</td>\n",
       "      <td>0</td>\n",
       "    </tr>\n",
       "    <tr>\n",
       "      <th>8</th>\n",
       "      <td>3</td>\n",
       "      <td>1</td>\n",
       "      <td>0</td>\n",
       "    </tr>\n",
       "    <tr>\n",
       "      <th>9</th>\n",
       "      <td>3</td>\n",
       "      <td>2</td>\n",
       "      <td>0</td>\n",
       "    </tr>\n",
       "    <tr>\n",
       "      <th>10</th>\n",
       "      <td>3</td>\n",
       "      <td>3</td>\n",
       "      <td>0</td>\n",
       "    </tr>\n",
       "    <tr>\n",
       "      <th>11</th>\n",
       "      <td>3</td>\n",
       "      <td>4</td>\n",
       "      <td>0</td>\n",
       "    </tr>\n",
       "  </tbody>\n",
       "</table>\n",
       "</div>"
      ],
      "text/plain": [
       "    SurveyId  QuestionId  InSurvey\n",
       "0          1           1         1\n",
       "1          1           2         1\n",
       "2          1           3         0\n",
       "3          1           4         0\n",
       "4          2           1         0\n",
       "5          2           2         1\n",
       "6          2           3         1\n",
       "7          2           4         0\n",
       "8          3           1         0\n",
       "9          3           2         0\n",
       "10         3           3         0\n",
       "11         3           4         0"
      ]
     },
     "execution_count": 10,
     "metadata": {},
     "output_type": "execute_result"
    }
   ],
   "source": [
    "# Create data frame to see all question in each query\n",
    "df_AllQuestion =  db_A19.getAllQuestioninSurvey(QuestionInSurvey, conn)\n",
    "df_AllQuestion"
   ]
  },
  {
   "cell_type": "code",
   "execution_count": 11,
   "metadata": {},
   "outputs": [
    {
     "data": {
      "text/plain": [
       "[[1, 1], [1, 2], [2, 2], [2, 3]]"
      ]
     },
     "execution_count": 11,
     "metadata": {},
     "output_type": "execute_result"
    }
   ],
   "source": [
    "# Make list of question in each survey \n",
    "InSurvey_list =  db_A19.getAllInsurveyQuestion(df_AllQuestion)\n",
    "InSurvey_list"
   ]
  },
  {
   "cell_type": "code",
   "execution_count": 12,
   "metadata": {},
   "outputs": [
    {
     "data": {
      "text/plain": [
       "' SELECT UserId, 1 as SurveyId, COALESCE((SELECT a.Answer_Value FROM Answer as a WHERE a.UserId = u.UserId AND a.SurveyId = 1 AND a.QuestionId = 1),-1) AS ANS_Q1,COALESCE((SELECT a.Answer_Value FROM Answer as a WHERE a.UserId = u.UserId AND a.SurveyId = 1 AND a.QuestionId = 2),-1) AS ANS_Q2, NULL AS ANS_Q3 FROM [User] as u WHERE EXISTS (SELECT * FROM Answer as a WHERE u.UserId = a.UserId AND a.SurveyId = 1) UNION   SELECT UserId, 2 as SurveyId,  NULL AS ANS_Q1,COALESCE((SELECT a.Answer_Value FROM Answer as a WHERE a.UserId = u.UserId AND a.SurveyId = 2 AND a.QuestionId = 2),-1) AS ANS_Q2,COALESCE((SELECT a.Answer_Value FROM Answer as a WHERE a.UserId = u.UserId AND a.SurveyId = 2 AND a.QuestionId = 3),-1) AS ANS_Q3 FROM [User] as u WHERE EXISTS (SELECT * FROM Answer as a WHERE u.UserId = a.UserId AND a.SurveyId = 2) UNION   SELECT UserId, 3 as SurveyId,  NULL AS ANS_Q1, NULL AS ANS_Q2, NULL AS ANS_Q3 FROM [User] as u WHERE EXISTS (SELECT * FROM Answer as a WHERE u.UserId = a.UserId AND a.SurveyId = 3)'"
      ]
     },
     "execution_count": 12,
     "metadata": {},
     "output_type": "execute_result"
    }
   ],
   "source": [
    "# Match answer to question\n",
    "FinalQuery = db_A19.Final(allQuestionId_list, allSurveyId_list, InSurvey_list)\n",
    "FinalQuery"
   ]
  },
  {
   "cell_type": "code",
   "execution_count": 13,
   "metadata": {},
   "outputs": [
    {
     "data": {
      "text/html": [
       "<div>\n",
       "<style scoped>\n",
       "    .dataframe tbody tr th:only-of-type {\n",
       "        vertical-align: middle;\n",
       "    }\n",
       "\n",
       "    .dataframe tbody tr th {\n",
       "        vertical-align: top;\n",
       "    }\n",
       "\n",
       "    .dataframe thead th {\n",
       "        text-align: right;\n",
       "    }\n",
       "</style>\n",
       "<table border=\"1\" class=\"dataframe\">\n",
       "  <thead>\n",
       "    <tr style=\"text-align: right;\">\n",
       "      <th></th>\n",
       "      <th>UserId</th>\n",
       "      <th>SurveyId</th>\n",
       "      <th>ANS_Q1</th>\n",
       "      <th>ANS_Q2</th>\n",
       "      <th>ANS_Q3</th>\n",
       "    </tr>\n",
       "  </thead>\n",
       "  <tbody>\n",
       "    <tr>\n",
       "      <th>0</th>\n",
       "      <td>42</td>\n",
       "      <td>1</td>\n",
       "      <td>3.0</td>\n",
       "      <td>-1.0</td>\n",
       "      <td>NaN</td>\n",
       "    </tr>\n",
       "    <tr>\n",
       "      <th>1</th>\n",
       "      <td>296</td>\n",
       "      <td>1</td>\n",
       "      <td>5.0</td>\n",
       "      <td>-1.0</td>\n",
       "      <td>NaN</td>\n",
       "    </tr>\n",
       "    <tr>\n",
       "      <th>2</th>\n",
       "      <td>1793</td>\n",
       "      <td>1</td>\n",
       "      <td>-1.0</td>\n",
       "      <td>6.0</td>\n",
       "      <td>NaN</td>\n",
       "    </tr>\n",
       "    <tr>\n",
       "      <th>3</th>\n",
       "      <td>2411</td>\n",
       "      <td>1</td>\n",
       "      <td>-1.0</td>\n",
       "      <td>1.0</td>\n",
       "      <td>NaN</td>\n",
       "    </tr>\n",
       "    <tr>\n",
       "      <th>4</th>\n",
       "      <td>2634</td>\n",
       "      <td>1</td>\n",
       "      <td>3.0</td>\n",
       "      <td>-1.0</td>\n",
       "      <td>NaN</td>\n",
       "    </tr>\n",
       "  </tbody>\n",
       "</table>\n",
       "</div>"
      ],
      "text/plain": [
       "   UserId  SurveyId  ANS_Q1  ANS_Q2  ANS_Q3\n",
       "0      42         1     3.0    -1.0     NaN\n",
       "1     296         1     5.0    -1.0     NaN\n",
       "2    1793         1    -1.0     6.0     NaN\n",
       "3    2411         1    -1.0     1.0     NaN\n",
       "4    2634         1     3.0    -1.0     NaN"
      ]
     },
     "execution_count": 13,
     "metadata": {},
     "output_type": "execute_result"
    }
   ],
   "source": [
    "# Get final survey data\n",
    "AllSurveyData = db_A19.Output(FinalQuery, conn, \"GetAllSurveyDataSQL_Khwansiri.csv\")\n",
    "AllSurveyData"
   ]
  },
  {
   "cell_type": "code",
   "execution_count": 14,
   "metadata": {},
   "outputs": [],
   "source": [
    "# Create view\n",
    "db_A19.createView(\"vw_AllSurveyData_KN\", FinalQuery, cur, conn)"
   ]
  },
  {
   "cell_type": "code",
   "execution_count": 15,
   "metadata": {},
   "outputs": [],
   "source": [
    "# Close connection\n",
    "db_A19.dbClose(conn,cur)"
   ]
  }
 ],
 "metadata": {
  "kernelspec": {
   "display_name": "Python 3",
   "language": "python",
   "name": "python3"
  },
  "language_info": {
   "codemirror_mode": {
    "name": "ipython",
    "version": 3
   },
   "file_extension": ".py",
   "mimetype": "text/x-python",
   "name": "python",
   "nbconvert_exporter": "python",
   "pygments_lexer": "ipython3",
   "version": "3.7.3"
  }
 },
 "nbformat": 4,
 "nbformat_minor": 2
}
