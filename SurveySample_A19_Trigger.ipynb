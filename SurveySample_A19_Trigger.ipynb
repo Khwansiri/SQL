{
 "cells": [
  {
   "cell_type": "markdown",
   "metadata": {},
   "source": [
    "# Trigger"
   ]
  },
  {
   "cell_type": "code",
   "execution_count": 1,
   "metadata": {},
   "outputs": [],
   "source": [
    "# Function to install and import packages\n",
    "def install_and_import(package):\n",
    "    import importlib\n",
    "    try:\n",
    "        importlib.import_module(package)\n",
    "    except ImportError:\n",
    "        import pip\n",
    "        pip.main(['install', package])\n",
    "    finally:\n",
    "        globals()[package] = importlib.import_module(package)"
   ]
  },
  {
   "cell_type": "code",
   "execution_count": 2,
   "metadata": {},
   "outputs": [],
   "source": [
    "# Packages needed\n",
    "install_and_import(\"pyodbc\")\n",
    "install_and_import(\"pandas\")"
   ]
  },
  {
   "cell_type": "code",
   "execution_count": 35,
   "metadata": {},
   "outputs": [],
   "source": [
    "# Database server connection\n",
    "conn = pyodbc.connect(\n",
    "       DRIVER='{ODBC Driver 17 for SQL Server}',  # Check driver version in ODBC Data Source Administrator in your personal computer\n",
    "       SERVER = 'DESKTOP-CC1UAQG\\SQL2019',          # SQL server name that can be seen when lauch SQL server \n",
    "       DATABASE = 'Survey_Sample_A19', \n",
    "       trusted_Connection = 'Yes')\n",
    "\n",
    "# Create cursor to traverse over the records in a database\n",
    "cur = conn.cursor()"
   ]
  },
  {
   "cell_type": "code",
   "execution_count": 36,
   "metadata": {},
   "outputs": [],
   "source": [
    "# Create class for trigger \n",
    "\n",
    "class Trigger:\n",
    "      \n",
    "    def __init__(self):\n",
    "        print(\"Instance of Trigger called\")\n",
    "    \n",
    "        \n",
    "    # Function to get survey structure\n",
    "    def getSurveyStructure(self, nameCSVinString, dbconn):\n",
    "        query_SurveyStructure = pandas.read_sql_query(\"SELECT * FROM SurveyStructure ORDER BY SurveyId\", dbconn)\n",
    "        df_SurveyStructure = pandas.DataFrame(query_SurveyStructure)\n",
    "        # Save original survey structure table in local drive\n",
    "        df_SurveyStructure.to_csv(nameCSVinString, index=False)\n",
    "        return df_SurveyStructure\n",
    "    \n",
    "    \n",
    "    # Get all surveyId \n",
    "    def allSurveyId (self):\n",
    "        query_ColSurveyId = \"SELECT DISTINCT SurveyId FROM Answer ORDER BY SurveyId\"\n",
    "        cur.execute(query_ColSurveyId)\n",
    "        row = [item[0] for item in cur.fetchall()]\n",
    "        return row\n",
    "\n",
    "    \n",
    "    # Get all question Id\n",
    "    def allQuestionId (self):\n",
    "        query_ColQuestionId = \"SELECT DISTINCT QuestionId FROM Answer ORDER BY QuestionId\"\n",
    "        cur.execute(query_ColQuestionId)\n",
    "        row = [item[0] for item in cur.fetchall()]\n",
    "        return row\n",
    "    \n",
    "    \n",
    "    # Function to verify the question in each survey\n",
    "    def AllSurvey_Question(self,SurveyList):\n",
    "        checkQuestion_List = [ ]\n",
    "\n",
    "        for surveyId in SurveyList:\n",
    "            if surveyId < len(SurveyList):\n",
    "                query_CheckQ_inSurvey = \"SELECT * FROM (SELECT SurveyId, QuestionId, 1 as InSurvey FROM SurveyStructure WHERE \" \\\n",
    "                                       \"SurveyId = \" +str(surveyId)+ \\\n",
    "                                       \" UNION \"  \\\n",
    "                                       \"SELECT \" +str(surveyId)+ \" as SurveyId, Q.QuestionId, 0 as InSurvey\" \\\n",
    "                                       \" FROM Question as Q WHERE NOT EXISTS\" \\\n",
    "                                       \"(SELECT * FROM SurveyStructure as S WHERE S.SurveyId = \" +str(surveyId)+\\\n",
    "                                       \" AND S.QuestionId = Q.QuestionId)) as t UNION \"\n",
    "                checkQuestion = query_CheckQ_inSurvey \n",
    "                checkQuestion_List.append(checkQuestion)\n",
    "\n",
    "            else: \n",
    "                query_CheckQ_LastSurvey = \"SELECT * FROM (SELECT SurveyId, QuestionId, 1 as InSurvey FROM SurveyStructure WHERE \" \\\n",
    "                                       \"SurveyId = \" +str(surveyId)+ \\\n",
    "                                       \" UNION \"  \\\n",
    "                                       \"SELECT \" +str(surveyId)+ \" as SurveyId, Q.QuestionId, 0 as InSurvey\" \\\n",
    "                                       \" FROM Question as Q WHERE NOT EXISTS\" \\\n",
    "                                       \"(SELECT * FROM SurveyStructure as S WHERE S.SurveyId = \" +str(surveyId)+\\\n",
    "                                       \" AND S.QuestionId = Q.QuestionId)) as t ORDER BY SurveyId \" \n",
    "                checkQuestion = query_CheckQ_LastSurvey\n",
    "                checkQuestion_List.append(checkQuestion)\n",
    "\n",
    "\n",
    "            allsurvey_question = \" \".join(checkQuestion_List)\n",
    "            surveyId  += 1\n",
    "        return allsurvey_question\n",
    "    \n",
    "    \n",
    "    # Create data frame to see all question in each query\n",
    "    def getAllQuestioninSurvey(self,query, dbconn):\n",
    "        query_allQuestioninSurvey = pandas.read_sql_query(query, dbconn)\n",
    "        df_allQuestioninSurvey = pandas.DataFrame(query_allQuestioninSurvey)\n",
    "        return df_allQuestioninSurvey\n",
    "\n",
    "    \n",
    "    # Make list of question in each survey \n",
    "    def getAllInsurveyQuestion(self,df):\n",
    "        df_InSurvey = df.loc[df[\"InSurvey\"]==1]\n",
    "        InSurvey_list = df_InSurvey.values[:,[0,1]].tolist()\n",
    "        return InSurvey_list\n",
    "\n",
    "\n",
    "  # Select only user who gives response\n",
    "    def Final(self,SurveyList, QuestionList, List):\n",
    "        strCurrentUnionQueryBlock_List = [ ]\n",
    "        strFinalQuery = \" \"\n",
    "\n",
    "        # Match answer to question\n",
    "        def DynamicAnswer(surveyId,questionId,List):\n",
    "            strColumnsQueryPart = \" \"\n",
    "            AnswerCol = \"COALESCE((SELECT a.Answer_Value FROM Answer as a \"\\\n",
    "                             \"WHERE a.UserId = u.UserId AND a.SurveyId = \" +str(surveyId)+\\\n",
    "                             \" AND a.QuestionId = \"+str(questionId)+\"),-1) \"\\\n",
    "                             \"AS ANS_Q\" +str(questionId)\n",
    "            NullCol = \" NULL AS ANS_Q\" +str(questionId) \n",
    "            value = [surveyId,questionId]\n",
    "            if value in List:\n",
    "                strColumnsQueryPart = AnswerCol\n",
    "            else:\n",
    "                strColumnsQueryPart = NullCol\n",
    "            return strColumnsQueryPart\n",
    "           \n",
    "\n",
    "        for surveyId in SurveyList:\n",
    "            strQueryTemplateOuterUnionQuery = \" SELECT UserId, \" +str(surveyId)+ \" as SurveyId, \"\n",
    "            for questionId in QuestionList:\n",
    "                if questionId in range(0,len(QuestionList)):\n",
    "                    strQueryTemplateOuterUnionQuery = strQueryTemplateOuterUnionQuery + DynamicAnswer(surveyId,questionId,List) + \",\"\n",
    "                else: \n",
    "                    strQueryTemplateOuterUnionQuery = strQueryTemplateOuterUnionQuery + DynamicAnswer(surveyId,questionId,List) + \" FROM [User] as u\" \\\n",
    "                                                      \" WHERE EXISTS (SELECT * FROM Answer as a WHERE u.UserId = a.UserId\" \\\n",
    "                                                      \" AND a.SurveyId = \" +str(surveyId)+ \") UNION \"\n",
    "\n",
    "                    strCurrentUnionQueryBlock_List.append(strQueryTemplateOuterUnionQuery)\n",
    "                    strCurrentUnionQueryBlock = \" \".join(strCurrentUnionQueryBlock_List)\n",
    "                questionId += 1\n",
    "            surveyId += 1\n",
    "            strFinalQuery = \" \".join(strCurrentUnionQueryBlock.split(\" \")[:-2])\n",
    "        return strFinalQuery\n",
    "\n",
    "\n",
    "    # Get final survey data\n",
    "    def Output(self, query,dbconn, nameCSVinString):\n",
    "        query_Output = pandas.read_sql_query(query, dbconn)\n",
    "        df_Output = pandas.DataFrame(query_Output)\n",
    "        df_Output.to_csv(nameCSVinString, index=False)\n",
    "        return df_Output.head(5)   # Check output\n",
    "    \n",
    "    \n",
    "    # Create view\n",
    "    def createView(self, View_NameInString, query, dbcur, dbconn):\n",
    "        query_view = \"CREATE VIEW \" + View_NameInString + \" AS \" + query\n",
    "        dbcur.execute(query_view)\n",
    "        dbconn.commit()\n",
    "        \n",
    "        \n",
    "    # Drop view\n",
    "    def dropView(self, View_NameInString, dbcur, dbconn):\n",
    "        query_view = \"DROP VIEW \" + View_NameInString \n",
    "        dbcur.execute(query_view)\n",
    "        dbconn.commit()\n",
    "        \n",
    "        \n",
    "    # Close connection\n",
    "    def dbClose(self, dbconn, dbcur):\n",
    "        dbcur.close()\n",
    "        del dbcur\n",
    "        dbconn.close()\n",
    "        \n",
    "        \n",
    "    def main(self):\n",
    "        df_SurveyStructure = self.getSurveyStructure(\"SurveyStructure_Khwansiri_update.csv\", conn)\n",
    "        allSurveyId_list = self.allSurveyId()\n",
    "        allQuestionId_list = self.allQuestionId()\n",
    "        QuestionInSurvey = self.AllSurvey_Question(allSurveyId_list)\n",
    "        df_AllQuestion =  self.getAllQuestioninSurvey(QuestionInSurvey,conn)\n",
    "        InSurvey_list =  self.getAllInsurveyQuestion(df_AllQuestion)\n",
    "        FinalQuery = self.Final(allQuestionId_list, allSurveyId_list, InSurvey_list)\n",
    "        AllSurveyData = self.Output(FinalQuery, conn, \"GetAllSurveyDataSQL_Khwansiri.csv\")\n",
    "        self.dropView(\"vw_AllSurveyData_Khwansiri\", cur, conn)\n",
    "        self.createView(\"vw_AllSurveyData_Khwansiri\", FinalQuery, cur, conn)\n",
    "        dbconn.close(conn,cur)"
   ]
  },
  {
   "cell_type": "code",
   "execution_count": 44,
   "metadata": {},
   "outputs": [],
   "source": [
    "# Look at current survey structure table\n",
    "query_Current_SurveyStructure = pandas.read_sql_query(\"SELECT * FROM SurveyStructure ORDER BY SurveyId\", conn)\n",
    "df_Current_SurveyStructure = pandas.DataFrame(query_Current_SurveyStructure)\n",
    "\n",
    "# Load original survey structure table from local computer\n",
    "df_Original_SurveyStructure = pandas.read_csv(\"E:\\DataScience\\DSTI\\SQL\\Exam\\SurveyStructure_Khwansiri.csv\")"
   ]
  },
  {
   "cell_type": "code",
   "execution_count": 45,
   "metadata": {},
   "outputs": [
    {
     "name": "stdout",
     "output_type": "stream",
     "text": [
      "Instance of Trigger called\n"
     ]
    }
   ],
   "source": [
    "db_A19_update = Trigger()"
   ]
  },
  {
   "cell_type": "code",
   "execution_count": 46,
   "metadata": {},
   "outputs": [],
   "source": [
    "# Compare current survey structure and the original one \n",
    "def checkUpdate(originalTable, newTable,View_NameInString):\n",
    "    if newTable.equals(originalTable) == False:\n",
    "        print (\"There are some updates in survey's structure >> View table is updated\")\n",
    "        db_A19_update.main()\n",
    "        \n",
    "    else:\n",
    "        print(\"Survey's structure has no update >> No need to create view table\")\n",
    "        db_A19_update.dbClose(conn,cur)"
   ]
  },
  {
   "cell_type": "code",
   "execution_count": 47,
   "metadata": {
    "scrolled": true
   },
   "outputs": [
    {
     "name": "stdout",
     "output_type": "stream",
     "text": [
      "Survey's structure has no update >> No need to create view table\n"
     ]
    }
   ],
   "source": [
    "checkUpdate(df_Original_SurveyStructure, df_Current_SurveyStructure,\"vw_AllSurveyData_Khwansiri\")"
   ]
  }
 ],
 "metadata": {
  "kernelspec": {
   "display_name": "Python 3",
   "language": "python",
   "name": "python3"
  },
  "language_info": {
   "codemirror_mode": {
    "name": "ipython",
    "version": 3
   },
   "file_extension": ".py",
   "mimetype": "text/x-python",
   "name": "python",
   "nbconvert_exporter": "python",
   "pygments_lexer": "ipython3",
   "version": "3.7.3"
  }
 },
 "nbformat": 4,
 "nbformat_minor": 2
}
